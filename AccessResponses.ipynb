{
 "cells": [
  {
   "cell_type": "code",
   "execution_count": null,
   "metadata": {},
   "outputs": [],
   "source": [
    "import csv\n",
    "\n",
    "filename = 'listings.csv'\n",
    "\n",
    "# Get stuff from csv and write into narrative\n",
    "def go_list(file_obj):\n",
    "    \n",
    "    reader = csv.reader(file_obj, delimiter=',')\n",
    "    with open(file_obj, encoding='ISO-8859-1') as csv_file:\n",
    "        reader = csv.reader(csv_file, delimiter=',')\n",
    "        #headers = next(csv_reader)\n",
    "        #f=open('planner.txt', 'a')\n",
    "        #f.write('ART' + '\\n\\n')\n",
    "        \n",
    "        for row in csv_reader:\n",
    "            venue = row[4].strip()\n",
    "            streetaddy = row[5].strip()\n",
    "            cityaddy = row[6].strip()\n",
    "            phone = row[7].strip()\n",
    "            event_type_1 = row[8].strip()\n",
    "            performer_1 = row[9].strip()\n",
    "            genre_1 = row[10].strip()\n",
    "            date_1 = row[11]\n",
    "            start_time_1 = row[12]\n",
    "            end_time_1 = row[13]\n",
    "            cost = row[14].strip\n",
    "            photo = row[15]\n",
    "            event_type_2 = row[16].strip()\n",
    "            performer_2 = row[17].strip()\n",
    "            genre_2 = row[18].strip()\n",
    "            date_2 = row[19]\n",
    "            start_time_2 = row[20]\n",
    "            end_time_2 = row[21]\n",
    "            event_type_3 = row[22].strip()\n",
    "            performer_3 = row[23].strip()\n",
    "            genre_3 = row[24].strip()\n",
    "            date_3 = row[25]\n",
    "            start_time_3 = row[26]\n",
    "            end_time_3 = row[27]\n",
    "         \n",
    "        \n",
    "            #f.write(campname + ': ' + description + '\\n')\n",
    "       \n",
    "        #f.close()"
   ]
  },
  {
   "cell_type": "code",
   "execution_count": null,
   "metadata": {},
   "outputs": [],
   "source": [
    "if __name__ == \"__main__\":\n",
    "    with open(filename, encoding='ISO-8859-1') as f_obj:\n",
    "        csv_reader(f_obj)"
   ]
  },
  {
   "cell_type": "code",
   "execution_count": 1,
   "metadata": {},
   "outputs": [
    {
     "ename": "NameError",
     "evalue": "name 'csv' is not defined",
     "output_type": "error",
     "traceback": [
      "\u001b[0;31m---------------------------------------------------------------------------\u001b[0m",
      "\u001b[0;31mNameError\u001b[0m                                 Traceback (most recent call last)",
      "\u001b[0;32m<ipython-input-1-6adbf18e23a9>\u001b[0m in \u001b[0;36m<module>\u001b[0;34m\u001b[0m\n\u001b[1;32m     10\u001b[0m     \u001b[0mcsv_path\u001b[0m \u001b[0;34m=\u001b[0m \u001b[0;34m\"listings.csv\"\u001b[0m\u001b[0;34m\u001b[0m\u001b[0;34m\u001b[0m\u001b[0m\n\u001b[1;32m     11\u001b[0m     \u001b[0;32mwith\u001b[0m \u001b[0mopen\u001b[0m\u001b[0;34m(\u001b[0m\u001b[0mcsv_path\u001b[0m\u001b[0;34m,\u001b[0m \u001b[0;34m\"rb\"\u001b[0m\u001b[0;34m)\u001b[0m \u001b[0;32mas\u001b[0m \u001b[0mf_obj\u001b[0m\u001b[0;34m:\u001b[0m\u001b[0;34m\u001b[0m\u001b[0;34m\u001b[0m\u001b[0m\n\u001b[0;32m---> 12\u001b[0;31m         \u001b[0mcsv_reader\u001b[0m\u001b[0;34m(\u001b[0m\u001b[0mf_obj\u001b[0m\u001b[0;34m)\u001b[0m\u001b[0;34m\u001b[0m\u001b[0;34m\u001b[0m\u001b[0m\n\u001b[0m",
      "\u001b[0;32m<ipython-input-1-6adbf18e23a9>\u001b[0m in \u001b[0;36mcsv_reader\u001b[0;34m(file_obj)\u001b[0m\n\u001b[1;32m      3\u001b[0m     \u001b[0mRead\u001b[0m \u001b[0ma\u001b[0m \u001b[0mcsv\u001b[0m \u001b[0mfile\u001b[0m\u001b[0;34m\u001b[0m\u001b[0;34m\u001b[0m\u001b[0m\n\u001b[1;32m      4\u001b[0m     \"\"\"\n\u001b[0;32m----> 5\u001b[0;31m     \u001b[0mreader\u001b[0m \u001b[0;34m=\u001b[0m \u001b[0mcsv\u001b[0m\u001b[0;34m.\u001b[0m\u001b[0mreader\u001b[0m\u001b[0;34m(\u001b[0m\u001b[0mfile_obj\u001b[0m\u001b[0;34m)\u001b[0m\u001b[0;34m\u001b[0m\u001b[0;34m\u001b[0m\u001b[0m\n\u001b[0m\u001b[1;32m      6\u001b[0m     \u001b[0;32mfor\u001b[0m \u001b[0mrow\u001b[0m \u001b[0;32min\u001b[0m \u001b[0mreader\u001b[0m\u001b[0;34m:\u001b[0m\u001b[0;34m\u001b[0m\u001b[0;34m\u001b[0m\u001b[0m\n\u001b[1;32m      7\u001b[0m         \u001b[0mprint\u001b[0m\u001b[0;34m(\u001b[0m\u001b[0;34m\" \"\u001b[0m\u001b[0;34m.\u001b[0m\u001b[0mjoin\u001b[0m\u001b[0;34m(\u001b[0m\u001b[0mrow\u001b[0m\u001b[0;34m)\u001b[0m\u001b[0;34m)\u001b[0m\u001b[0;34m\u001b[0m\u001b[0;34m\u001b[0m\u001b[0m\n",
      "\u001b[0;31mNameError\u001b[0m: name 'csv' is not defined"
     ]
    }
   ],
   "source": [
    "def csv_reader(file_obj):\n",
    "    \"\"\"\n",
    "    Read a csv file\n",
    "    \"\"\"\n",
    "    reader = csv.reader(file_obj)\n",
    "    for row in reader:\n",
    "        print(\" \".join(row))\n",
    "#----------------------------------------------------------------------\n",
    "if __name__ == \"__main__\":\n",
    "    csv_path = \"listings.csv\"\n",
    "    with open(csv_path, \"rb\") as f_obj:\n",
    "        csv_reader(f_obj)"
   ]
  },
  {
   "cell_type": "code",
   "execution_count": null,
   "metadata": {},
   "outputs": [],
   "source": []
  }
 ],
 "metadata": {
  "kernelspec": {
   "display_name": "Python 3",
   "language": "python",
   "name": "python3"
  },
  "language_info": {
   "codemirror_mode": {
    "name": "ipython",
    "version": 3
   },
   "file_extension": ".py",
   "mimetype": "text/x-python",
   "name": "python",
   "nbconvert_exporter": "python",
   "pygments_lexer": "ipython3",
   "version": "3.7.1"
  }
 },
 "nbformat": 4,
 "nbformat_minor": 2
}
