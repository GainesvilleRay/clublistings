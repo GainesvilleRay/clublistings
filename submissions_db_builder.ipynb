{
 "cells": [
  {
   "cell_type": "code",
   "execution_count": 2,
   "metadata": {},
   "outputs": [],
   "source": [
    "import sqlite3\n",
    "conn = sqlite3.connect(\"submissions_db.sqlite\")\n",
    "cursor = conn.cursor()\n",
    "\n",
    "cursor.execute(\"\"\"CREATE TABLE IF NOT EXISTS submissions (\n",
    "librow INTEGER,\n",
    "timestamp DATETIME DEFAULT (STRFTIME('%Y-%m-%d %H:%M:%S %p', 'localtime')),\n",
    "venue TEXT,\n",
    "streetaddy TEXT,\n",
    "cityaddy TEXT,\n",
    "phone TEXT,\n",
    "karaoke TEXT,\n",
    "karadays TEXT,\n",
    "karastart DATETIME,\n",
    "karaend DATETIME,\n",
    "performer_1 TEXT,\n",
    "genre_1 TEXT,\n",
    "date_1 DATETIME,\n",
    "start_1 DATETIME,\n",
    "end_1 DATETIME,\n",
    "cost TEXT,\n",
    "photo TEXT,\n",
    "performer_2 TEXT,\n",
    "genre_2 TEXT,\n",
    "date_2 DATETIME,\n",
    "start_2 DATETIME,\n",
    "performer_3 TEXT,\n",
    "genre_3 TEXT,\n",
    "date_3 DATETIME,\n",
    "start_3 DATETIME,\n",
    "performer_4 TEXT,\n",
    "genre_4 TEXT,\n",
    "date_4 DATETIME,\n",
    "start_4 DATETIME,\n",
    "performer_5 TEXT,\n",
    "genre_5 TEXT,\n",
    "date_5 DATETIME,\n",
    "start_5 DATETIME,\n",
    "performer_6 TEXT,\n",
    "genre_6 TEXT,\n",
    "date_6 DATETIME,\n",
    "start_6 DATETIME,\n",
    "performer_7 TEXT,\n",
    "genre_7 TEXT,\n",
    "date_7 DATETIME,\n",
    "start_7 DATETIME)\n",
    "\"\"\")\n",
    "\n",
    "cursor.execute(\"\"\"CREATE TABLE IF NOT EXISTS clubs (\n",
    "id INTEGER PRIMARY KEY,\n",
    "venue TEXT,\n",
    "streetaddy TEXT,\n",
    "cityaddy TEXT,\n",
    "phone TEXT)\n",
    "\"\"\")\n",
    "\n",
    "conn.commit()\n",
    "conn.close()"
   ]
  },
  {
   "cell_type": "code",
   "execution_count": null,
   "metadata": {},
   "outputs": [],
   "source": []
  }
 ],
 "metadata": {
  "kernelspec": {
   "display_name": "Python 3",
   "language": "python",
   "name": "python3"
  },
  "language_info": {
   "codemirror_mode": {
    "name": "ipython",
    "version": 3
   },
   "file_extension": ".py",
   "mimetype": "text/x-python",
   "name": "python",
   "nbconvert_exporter": "python",
   "pygments_lexer": "ipython3",
   "version": "3.7.1"
  }
 },
 "nbformat": 4,
 "nbformat_minor": 2
}
